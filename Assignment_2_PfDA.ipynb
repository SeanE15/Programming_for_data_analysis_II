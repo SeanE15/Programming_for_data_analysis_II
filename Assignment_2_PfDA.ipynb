{
 "cells": [
  {
   "cell_type": "markdown",
   "id": "95bf4a92",
   "metadata": {},
   "source": [
    "## Programming for Data Analysis Project II\n",
    "### Author: Sean Elliott\n",
    "\n",
    "****"
   ]
  },
  {
   "cell_type": "code",
   "execution_count": 1,
   "id": "02c363fd",
   "metadata": {},
   "outputs": [],
   "source": [
    "import pandas as pd\n",
    "\n",
    "import numpy as np\n",
    "\n",
    "import seaborn as sns \n",
    "\n",
    "import sklearn.neighbors as nei\n",
    "\n",
    "import matplotlib.pyplot as plt \n",
    "\n",
    "import sklearn.model_selection as mod\n",
    "\n",
    "import seaborn as sns\n",
    "\n",
    "import sklearn.preprocessing "
   ]
  },
  {
   "cell_type": "markdown",
   "id": "f3d1cc96",
   "metadata": {},
   "source": [
    "## Wisconsin Breat Cancer dataset \n",
    "![](https://archive.ics.uci.edu/ml/assets/MLimages/Large14.jpg)"
   ]
  },
  {
   "cell_type": "markdown",
   "id": "c986b004",
   "metadata": {},
   "source": [
    "This project is an indepth look att he 'Wisconsin Breats Cancer dataset which was produced on 15/07/1995. It is a multivariate dataset with 699 instances of data. There are 10 'Attributes' in the dataset which will be explored in the project below. The project must consist of the following requirements. We are required to;\n",
    "\n",
    "• Undertake an analysis/review of the dataset and present an overview and background.\n",
    "• Provide a literature review on classifiers which have been applied to the dataset and compare their performanc.\n",
    "• Present a statistical analysis of the dataset.\n",
    "• Using a range of machine learning algorithms, train a set of classifiers on the dataset (using SKLearn etc.) and present classification performance results. Detail your rationale for the parameter selections you made while training the classifiers.\n",
    "• Compare, contrast and critique your results with reference to the literature.\n",
    "• Discuss and investigate how the dataset could be extended – using data synthesis of new tumour datapoints."
   ]
  },
  {
   "cell_type": "markdown",
   "id": "d618909e",
   "metadata": {},
   "source": [
    "## What is breast cancer?"
   ]
  },
  {
   "cell_type": "markdown",
   "id": "6887b109",
   "metadata": {},
   "source": [
    "[Breast cancer](#https://www.uicc.org/what-we-do/thematic-areas-work/breast-cancer?gclid=EAIaIQobChMIutzCy4Hv-wIVybHtCh0XWQfTEAAYAiAAEgK8F_D_BwE) is the most diagnsoed cancer in the world. It accounts for 1 in 4 cancer cases amoungst women and is the leading cause of death from cancer for women. There are an estimated 2.2 million new cases of cancer diagnosed in 2020, 1 in 10 of those diagnoses is breast cancer.  \n",
    "\n",
    "![](https://www.uicc.org/sites/main/files/thumbnails/image/Breast-cancer-graph-top-cancer-per-country-new-cases-2020-female-web.png_0.png)"
   ]
  },
  {
   "cell_type": "markdown",
   "id": "985aa47a",
   "metadata": {},
   "source": [
    "The dataset below contains many classifications which help doctors firstly to correctly diagnose whether a sample is benign or malignant, and secondly what the next course of action will be. I will give a glossary below of the attributes below and their meanings - ultimately this will help with my understanding of the dataset and hopefully during the Machine Learning stage it will help clarify a few things. Something to note is that each attribute is classified on a scale of 1 - 10, barring the final attribute called 'Class' which is either '2' or '4'. The terms in the dataset are as below:\n",
    " \n",
    "1) Sample Number - The Sample ID number \n",
    " \n",
    "2) Clump Thickness - Benign cells tend to be grouped in monolayers, while cancerous cells are often grouped in multilayers.\n",
    " \n",
    "3) Cell Size - Cancer cells tend to vary in size and shape\n",
    " \n",
    "4) Cell Shape -  Cancer cells tend to vary in shape and size\n",
    " \n",
    "5) Adhesion - Normal cells tend to stick together while cancer cells tend to lose this ability, so the loss of adhesion is a sign of malignancy.\n",
    "\n",
    "6) Single Epithelial Cell Size - If significantly enlarged may be a malignant cell.\n",
    " \n",
    "7) Bare Nuclei - This is a term used for nuclei not surrounded by cytoplasm (the rest of the cell). Those are typically seen in benign tumors.\n",
    " \n",
    "8) Bland Chromatin - Describes a uniform \"texture\" of the nucleus seen in benign cells. In cancer cells, the chromatin tends to be more coarse and to form clumps.\n",
    " \n",
    "9) Normal Nucleoli - Nucleoli are small structures seen in the nucleus. In normal cells, the nucleolus is usually very small if visible at all. The nucleoli become more prominent in cancer cells, and sometimes there are multiple.\n",
    " \n",
    "10) [Mitoses](https://www.cancer.gov/publications/dictionaries/cancer-terms/def/mitotic-rate) - 'A measure of how fast cancer cells are dividing and growing.'\n",
    " \n",
    "11) Class - description of data, 2 is for Benign and 4 is Malignant.\n",
    "\n",
    "****\n",
    " \n",
    " [Descriptions](https://www.neuraldesigner.com/learning/examples/breast-cancer-diagnosis#:~:text=Epithelial%20cells%20that%20are%20significantly,typically%20seen%20in%20benign%20tumors.) above were taken from this website."
   ]
  },
  {
   "cell_type": "code",
   "execution_count": 2,
   "id": "3c22b0e5",
   "metadata": {},
   "outputs": [],
   "source": [
    "#start by loading dataset and adding headers to columns for clarity\n",
    "df = pd.read_csv('https://raw.githubusercontent.com/SeanE15/Programming_for_data_analysis_II/main/Dataset/breast-cancer-wisconsin.data')\n",
    "df.columns = [\"Sample_Number\", \"Clump_Thickness\", \"Cell_Size\", \"Cell_Shape\",\"Adhesion\",\"Single_Epithelial_Cell_Size\",\"Bare_Nuclei\",\"Bland_Chromatin\",\"Normal_Nucleoli\",\"Mitoses\",\"Class\"]"
   ]
  },
  {
   "cell_type": "code",
   "execution_count": 3,
   "id": "487667f3",
   "metadata": {},
   "outputs": [],
   "source": [
    "# remove any variable which might muddy the dataset's values\n",
    "df = df.dropna()"
   ]
  },
  {
   "cell_type": "code",
   "execution_count": 4,
   "id": "ebb0ab98",
   "metadata": {},
   "outputs": [
    {
     "name": "stdout",
     "output_type": "stream",
     "text": [
      "Sample_Number                  0\n",
      "Clump_Thickness                0\n",
      "Cell_Size                      0\n",
      "Cell_Shape                     0\n",
      "Adhesion                       0\n",
      "Single_Epithelial_Cell_Size    0\n",
      "Bare_Nuclei                    0\n",
      "Bland_Chromatin                0\n",
      "Normal_Nucleoli                0\n",
      "Mitoses                        0\n",
      "Class                          0\n",
      "dtype: int64\n"
     ]
    }
   ],
   "source": [
    "# check that no more NaN values are in the data set.\n",
    "print(df.isnull().sum())"
   ]
  },
  {
   "cell_type": "markdown",
   "id": "25be961f",
   "metadata": {},
   "source": [
    "# Introduction to the data\n",
    "\n",
    "Now that we have cleaned the dataset above, we will now start to disect the informaiton, catergorise it, and deduce which data is most pertinent to the investigation we are trying to carry out."
   ]
  },
  {
   "cell_type": "code",
   "execution_count": 5,
   "id": "c4559adb",
   "metadata": {},
   "outputs": [
    {
     "name": "stderr",
     "output_type": "stream",
     "text": [
      "C:\\Users\\Sean\\anaconda3\\lib\\site-packages\\seaborn\\_decorators.py:36: FutureWarning: Pass the following variable as a keyword arg: x. From version 0.12, the only valid positional argument will be `data`, and passing other arguments without an explicit keyword will result in an error or misinterpretation.\n",
      "  warnings.warn(\n"
     ]
    },
    {
     "data": {
      "text/plain": [
       "<function matplotlib.pyplot.show(close=None, block=None)>"
      ]
     },
     "execution_count": 5,
     "metadata": {},
     "output_type": "execute_result"
    },
    {
     "data": {
      "image/png": "[encoded data removed]",
      "text/plain": [
       "<Figure size 640x480 with 1 Axes>"
      ]
     },
     "metadata": {},
     "output_type": "display_data"
    }
   ],
   "source": [
    "#We start by asking the question, formt he dataset, which samples are bening and which are malignant. If the data set presents a '2'\n",
    "# the sample is benign, if a '4' is presented then the samples are malignant.\n",
    "\n",
    "df['Class'].value_counts()\n",
    "sns.countplot(df.Class,label='Count')\n",
    "plt.show"
   ]
  },
  {
   "cell_type": "markdown",
   "id": "d0ed75ba",
   "metadata": {},
   "source": [
    " From the investigation above we can see that 457 of the samples tested were benign, while 241 cases were malignant.\n"
   ]
  }
 ],
 "metadata": {
  "kernelspec": {
   "display_name": "Python 3 (ipykernel)",
   "language": "python",
   "name": "python3"
  },
  "language_info": {
   "codemirror_mode": {
    "name": "ipython",
    "version": 3
   },
   "file_extension": ".py",
   "mimetype": "text/x-python",
   "name": "python",
   "nbconvert_exporter": "python",
   "pygments_lexer": "ipython3",
   "version": "3.9.13"
  }
 },
 "nbformat": 4,
 "nbformat_minor": 5
}
