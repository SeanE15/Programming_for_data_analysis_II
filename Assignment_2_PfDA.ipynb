{
 "cells": [
  {
   "cell_type": "markdown",
   "id": "95bf4a92",
   "metadata": {},
   "source": [
    "## Programming for Data Analysis Project II\n",
    "### Author: Sean Elliott\n",
    "\n",
    "****"
   ]
  },
  {
   "cell_type": "code",
   "execution_count": 19,
   "id": "02c363fd",
   "metadata": {},
   "outputs": [],
   "source": [
    "import pandas as pd\n",
    "\n",
    "import numpy as np\n",
    "\n",
    "import seaborn as sns \n",
    "\n",
    "import sklearn.neighbors as nei\n",
    "\n",
    "import matplotlib.pyplot as plt \n",
    "\n",
    "import sklearn.model_selection as mod\n",
    "\n",
    "import seaborn as sns\n",
    "\n",
    "import sklearn.preprocessing "
   ]
  },
  {
   "cell_type": "code",
   "execution_count": 20,
   "id": "3c22b0e5",
   "metadata": {},
   "outputs": [],
   "source": [
    "#start by loading dataset and adding headers to columns for clarity\n",
    "df = pd.read_csv('https://raw.githubusercontent.com/SeanE15/Programming_for_data_analysis_II/main/Dataset/breast-cancer-wisconsin.data')\n",
    "df.columns = [\"Sample_Number\", \"Clump_Thickness\", \"Cell_Size\", \"Cell_Shape\",\"Adhesion\",\"Single_Epithelial_Cell_Size\",\"Bare_Nuclei\",\"Bland_Chromatin\",\"Normal_Nucleoli\",\"Mitoses\",\"Class\"]"
   ]
  },
  {
   "cell_type": "code",
   "execution_count": 21,
   "id": "a196402b",
   "metadata": {},
   "outputs": [
    {
     "name": "stdout",
     "output_type": "stream",
     "text": [
      "     Sample_Number  Clump_Thickness  Cell_Size  Cell_Shape  Adhesion  \\\n",
      "0          1002945                5          4           4         5   \n",
      "1          1015425                3          1           1         1   \n",
      "2          1016277                6          8           8         1   \n",
      "3          1017023                4          1           1         3   \n",
      "4          1017122                8         10          10         8   \n",
      "..             ...              ...        ...         ...       ...   \n",
      "693         776715                3          1           1         1   \n",
      "694         841769                2          1           1         1   \n",
      "695         888820                5         10          10         3   \n",
      "696         897471                4          8           6         4   \n",
      "697         897471                4          8           8         5   \n",
      "\n",
      "     Single_Epithelial_Cell_Size Bare_Nuclei  Bland_Chromatin  \\\n",
      "0                              7          10                3   \n",
      "1                              2           2                3   \n",
      "2                              3           4                3   \n",
      "3                              2           1                3   \n",
      "4                              7          10                9   \n",
      "..                           ...         ...              ...   \n",
      "693                            3           2                1   \n",
      "694                            2           1                1   \n",
      "695                            7           3                8   \n",
      "696                            3           4               10   \n",
      "697                            4           5               10   \n",
      "\n",
      "     Normal_Nucleoli  Mitoses  Class  \n",
      "0                  2        1      2  \n",
      "1                  1        1      2  \n",
      "2                  7        1      2  \n",
      "3                  1        1      2  \n",
      "4                  7        1      4  \n",
      "..               ...      ...    ...  \n",
      "693                1        1      2  \n",
      "694                1        1      2  \n",
      "695               10        2      4  \n",
      "696                6        1      4  \n",
      "697                4        1      4  \n",
      "\n",
      "[698 rows x 11 columns]\n"
     ]
    }
   ],
   "source": [
    "print(df)"
   ]
  },
  {
   "cell_type": "code",
   "execution_count": 22,
   "id": "487667f3",
   "metadata": {},
   "outputs": [],
   "source": [
    "# remove any varibale which might muddy the dataset's values\n",
    "df = df.dropna()"
   ]
  },
  {
   "cell_type": "code",
   "execution_count": 23,
   "id": "ebb0ab98",
   "metadata": {},
   "outputs": [
    {
     "name": "stdout",
     "output_type": "stream",
     "text": [
      "Sample_Number                  0\n",
      "Clump_Thickness                0\n",
      "Cell_Size                      0\n",
      "Cell_Shape                     0\n",
      "Adhesion                       0\n",
      "Single_Epithelial_Cell_Size    0\n",
      "Bare_Nuclei                    0\n",
      "Bland_Chromatin                0\n",
      "Normal_Nucleoli                0\n",
      "Mitoses                        0\n",
      "Class                          0\n",
      "dtype: int64\n"
     ]
    }
   ],
   "source": [
    "# check that no more NaN values are in the data set.\n",
    "print(df.isnull().sum())"
   ]
  },
  {
   "cell_type": "code",
   "execution_count": null,
   "id": "424699e2",
   "metadata": {},
   "outputs": [],
   "source": []
  },
  {
   "cell_type": "code",
   "execution_count": null,
   "id": "c4559adb",
   "metadata": {},
   "outputs": [],
   "source": []
  },
  {
   "cell_type": "code",
   "execution_count": null,
   "id": "1899d49d",
   "metadata": {},
   "outputs": [],
   "source": []
  }
 ],
 "metadata": {
  "kernelspec": {
   "display_name": "Python 3 (ipykernel)",
   "language": "python",
   "name": "python3"
  },
  "language_info": {
   "codemirror_mode": {
    "name": "ipython",
    "version": 3
   },
   "file_extension": ".py",
   "mimetype": "text/x-python",
   "name": "python",
   "nbconvert_exporter": "python",
   "pygments_lexer": "ipython3",
   "version": "3.9.13"
  }
 },
 "nbformat": 4,
 "nbformat_minor": 5
}
